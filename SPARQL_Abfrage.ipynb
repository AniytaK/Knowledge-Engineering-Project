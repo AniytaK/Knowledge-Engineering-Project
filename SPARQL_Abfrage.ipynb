{
 "cells": [
  {
   "cell_type": "code",
   "execution_count": 1,
   "id": "7bc1f396237bab8f",
   "metadata": {
    "collapsed": true,
    "ExecuteTime": {
     "end_time": "2024-11-20T09:38:59.223008100Z",
     "start_time": "2024-11-20T09:38:50.891603Z"
    }
   },
   "outputs": [],
   "source": [
    "from SPARQLWrapper import SPARQLWrapper, JSON\n",
    "\n",
    "import os\n",
    "import pandas as pd\n",
    "from datetime import datetime, timedelta"
   ]
  },
  {
   "cell_type": "code",
   "execution_count": 2,
   "outputs": [],
   "source": [
    "\n",
    "#Code Pikeln\n",
    "def pickeln_data_from_wikidata():\n",
    "    cache_file = 'data_cache.csv'\n",
    "    cache_duration = timedelta(days=7)  # Daten alle 7 Tage aktualisieren\n",
    "\n",
    "    # Überprüfen, ob eine zwischengespeicherte Datei existiert und aktuell ist\n",
    "    if os.path.exists(cache_file):\n",
    "        file_mod_time = datetime.fromtimestamp(os.path.getmtime(cache_file))\n",
    "        if datetime.now() - file_mod_time < cache_duration:\n",
    "            return pd.read_csv(cache_file)\n",
    "\n",
    "    # SPARQL-Abfrage an Wikidata\n",
    "    sparql = SPARQLWrapper(\"https://query.wikidata.org/sparql\")\n",
    "    sparql.setQuery('''\n",
    "        SELECT DISTINCT ?school ?label_school ?location ?label_location ?location_coordinates ?website\n",
    "        WHERE {\n",
    "          SERVICE <https://query.wikidata.org/sparql> {\n",
    "            ?school wdt:P31 wd:Q15850083;     \t# is a university of applied science\n",
    "                    rdfs:label ?label_school;       \t \n",
    "                    wdt:P625 ?location_coordinates;\n",
    "                    wdt:P131 ?location;\n",
    "                    wdt:P856 ?website.\n",
    "            ?location rdfs:label ?label_location.\n",
    "\n",
    "\n",
    "\n",
    "            OPTIONAL {?school wdt:P1813 ?shortname;   \t \n",
    "                            wdt:P1366 ?school_replace.  \t \n",
    "                    ?school_replace rdfs:label ?label_replace.}\n",
    "            OPTIONAL {?location wdt:P625 ?location_coordinates.}\n",
    "\n",
    "            FILTER (LANG(?label_school) = \"en\" &&      \t# Englisch sind mehr verfügbar als in Deutsch\n",
    "                    LANG(?label_location) = \"en\")\n",
    "            }\n",
    "          }\n",
    "        ORDER BY ASC (?label_school)\n",
    "    ''')\n",
    "    sparql.setReturnFormat(JSON)\n",
    "    results = sparql.query().convert()\n",
    "\n",
    "    # Verarbeiten der Ergebnisse\n",
    "    data = []\n",
    "    for result in results[\"results\"][\"bindings\"]:\n",
    "        entry = {\n",
    "            'school': result[\"school\"][\"value\"],\n",
    "            'label_school': result[\"label_school\"][\"value\"],\n",
    "            'location': result[\"location\"][\"value\"],\n",
    "            'label_location': result[\"label_location\"][\"value\"],\n",
    "            'website': result[\"website\"][\"value\"]\n",
    "        }\n",
    "        if 'location_coordinates' in result:\n",
    "            entry['location_coordinates'] = result[\"location_coordinates\"][\"value\"]\n",
    "        else:\n",
    "            entry['location_coordinates'] = None\n",
    "\n",
    "        data.append(entry)\n",
    "\n",
    "    df = pd.DataFrame(data)\n",
    "    # Speichern in einer CSV-Datei\n",
    "    df.to_csv(cache_file, index=False)\n",
    "\n",
    "    return df"
   ],
   "metadata": {
    "collapsed": false,
    "ExecuteTime": {
     "end_time": "2024-11-20T09:39:02.349211200Z",
     "start_time": "2024-11-20T09:39:02.331380800Z"
    }
   },
   "id": "32ca0d1c0eb78b35"
  },
  {
   "cell_type": "code",
   "execution_count": 4,
   "outputs": [
    {
     "data": {
      "text/plain": "                                     school  \\\n0   http://www.wikidata.org/entity/Q1622181   \n1   http://www.wikidata.org/entity/Q1622152   \n2    http://www.wikidata.org/entity/Q466455   \n3  http://www.wikidata.org/entity/Q98830957   \n4  http://www.wikidata.org/entity/Q98830957   \n5  http://www.wikidata.org/entity/Q98830957   \n6  http://www.wikidata.org/entity/Q98830957   \n7  http://www.wikidata.org/entity/Q98830957   \n8    http://www.wikidata.org/entity/Q691146   \n9   http://www.wikidata.org/entity/Q1622221   \n\n                                        label_school  \\\n0                          Academy of Art and Design   \n1                               Bern Academy of Arts   \n2                Bern University of Applied Sciences   \n3                                Business Department   \n4                                Business Department   \n5                                Business Department   \n6                                Business Department   \n7                                Business Department   \n8                        City of Basel Music Academy   \n9  Fachhochschule Nordwestschweiz. Hochschule für...   \n\n                                  location  \\\n0       http://www.wikidata.org/entity/Q78   \n1       http://www.wikidata.org/entity/Q70   \n2    http://www.wikidata.org/entity/Q11911   \n3       http://www.wikidata.org/entity/Q70   \n4    http://www.wikidata.org/entity/Q11911   \n5   http://www.wikidata.org/entity/Q514089   \n6   http://www.wikidata.org/entity/Q666217   \n7  http://www.wikidata.org/entity/Q1625002   \n8       http://www.wikidata.org/entity/Q78   \n9    http://www.wikidata.org/entity/Q66191   \n\n                            label_location                        website  \\\n0                                    Basel        http://www.fhnw.ch/hgk/   \n1                                     Bern         http://www.hkb.bfh.ch/   \n2                            Bern (canton)             https://www.bfh.ch   \n3                                     Bern  https://www.bfh.ch/wirtschaft   \n4                            Bern (canton)  https://www.bfh.ch/wirtschaft   \n5                    Mattenhof-Weissenbühl  https://www.bfh.ch/wirtschaft   \n6  Bern-Mittelland administrative district  https://www.bfh.ch/wirtschaft   \n7                                 Sandrain  https://www.bfh.ch/wirtschaft   \n8                                    Basel   http://www.musik-akademie.ch   \n9                                  Muttenz    http://www.fhnw.ch/technik/   \n\n              location_coordinates  \n0        Point(7.611 47.533055555)  \n1  Point(7.391388888 46.946666666)  \n2       Point(7.277219444 47.1583)  \n3      Point(7.4403856 46.9423434)  \n4      Point(7.4403856 46.9423434)  \n5      Point(7.4403856 46.9423434)  \n6      Point(7.4403856 46.9423434)  \n7      Point(7.4403856 46.9423434)  \n8            Point(7.5861 47.5552)  \n9        Point(8.212903 47.479639)  ",
      "text/html": "<div>\n<style scoped>\n    .dataframe tbody tr th:only-of-type {\n        vertical-align: middle;\n    }\n\n    .dataframe tbody tr th {\n        vertical-align: top;\n    }\n\n    .dataframe thead th {\n        text-align: right;\n    }\n</style>\n<table border=\"1\" class=\"dataframe\">\n  <thead>\n    <tr style=\"text-align: right;\">\n      <th></th>\n      <th>school</th>\n      <th>label_school</th>\n      <th>location</th>\n      <th>label_location</th>\n      <th>website</th>\n      <th>location_coordinates</th>\n    </tr>\n  </thead>\n  <tbody>\n    <tr>\n      <th>0</th>\n      <td>http://www.wikidata.org/entity/Q1622181</td>\n      <td>Academy of Art and Design</td>\n      <td>http://www.wikidata.org/entity/Q78</td>\n      <td>Basel</td>\n      <td>http://www.fhnw.ch/hgk/</td>\n      <td>Point(7.611 47.533055555)</td>\n    </tr>\n    <tr>\n      <th>1</th>\n      <td>http://www.wikidata.org/entity/Q1622152</td>\n      <td>Bern Academy of Arts</td>\n      <td>http://www.wikidata.org/entity/Q70</td>\n      <td>Bern</td>\n      <td>http://www.hkb.bfh.ch/</td>\n      <td>Point(7.391388888 46.946666666)</td>\n    </tr>\n    <tr>\n      <th>2</th>\n      <td>http://www.wikidata.org/entity/Q466455</td>\n      <td>Bern University of Applied Sciences</td>\n      <td>http://www.wikidata.org/entity/Q11911</td>\n      <td>Bern (canton)</td>\n      <td>https://www.bfh.ch</td>\n      <td>Point(7.277219444 47.1583)</td>\n    </tr>\n    <tr>\n      <th>3</th>\n      <td>http://www.wikidata.org/entity/Q98830957</td>\n      <td>Business Department</td>\n      <td>http://www.wikidata.org/entity/Q70</td>\n      <td>Bern</td>\n      <td>https://www.bfh.ch/wirtschaft</td>\n      <td>Point(7.4403856 46.9423434)</td>\n    </tr>\n    <tr>\n      <th>4</th>\n      <td>http://www.wikidata.org/entity/Q98830957</td>\n      <td>Business Department</td>\n      <td>http://www.wikidata.org/entity/Q11911</td>\n      <td>Bern (canton)</td>\n      <td>https://www.bfh.ch/wirtschaft</td>\n      <td>Point(7.4403856 46.9423434)</td>\n    </tr>\n    <tr>\n      <th>5</th>\n      <td>http://www.wikidata.org/entity/Q98830957</td>\n      <td>Business Department</td>\n      <td>http://www.wikidata.org/entity/Q514089</td>\n      <td>Mattenhof-Weissenbühl</td>\n      <td>https://www.bfh.ch/wirtschaft</td>\n      <td>Point(7.4403856 46.9423434)</td>\n    </tr>\n    <tr>\n      <th>6</th>\n      <td>http://www.wikidata.org/entity/Q98830957</td>\n      <td>Business Department</td>\n      <td>http://www.wikidata.org/entity/Q666217</td>\n      <td>Bern-Mittelland administrative district</td>\n      <td>https://www.bfh.ch/wirtschaft</td>\n      <td>Point(7.4403856 46.9423434)</td>\n    </tr>\n    <tr>\n      <th>7</th>\n      <td>http://www.wikidata.org/entity/Q98830957</td>\n      <td>Business Department</td>\n      <td>http://www.wikidata.org/entity/Q1625002</td>\n      <td>Sandrain</td>\n      <td>https://www.bfh.ch/wirtschaft</td>\n      <td>Point(7.4403856 46.9423434)</td>\n    </tr>\n    <tr>\n      <th>8</th>\n      <td>http://www.wikidata.org/entity/Q691146</td>\n      <td>City of Basel Music Academy</td>\n      <td>http://www.wikidata.org/entity/Q78</td>\n      <td>Basel</td>\n      <td>http://www.musik-akademie.ch</td>\n      <td>Point(7.5861 47.5552)</td>\n    </tr>\n    <tr>\n      <th>9</th>\n      <td>http://www.wikidata.org/entity/Q1622221</td>\n      <td>Fachhochschule Nordwestschweiz. Hochschule für...</td>\n      <td>http://www.wikidata.org/entity/Q66191</td>\n      <td>Muttenz</td>\n      <td>http://www.fhnw.ch/technik/</td>\n      <td>Point(8.212903 47.479639)</td>\n    </tr>\n  </tbody>\n</table>\n</div>"
     },
     "execution_count": 4,
     "metadata": {},
     "output_type": "execute_result"
    }
   ],
   "source": [
    "data1 = pickeln_data_from_wikidata()\n",
    "data1.head(10)"
   ],
   "metadata": {
    "collapsed": false,
    "ExecuteTime": {
     "end_time": "2024-11-20T09:42:50.271661200Z",
     "start_time": "2024-11-20T09:42:50.236970900Z"
    }
   },
   "id": "initial_id"
  },
  {
   "cell_type": "code",
   "execution_count": null,
   "outputs": [],
   "source": [],
   "metadata": {
    "collapsed": false
   },
   "id": "7233023165ae58ff"
  }
 ],
 "metadata": {
  "kernelspec": {
   "display_name": "Python 3",
   "language": "python",
   "name": "python3"
  },
  "language_info": {
   "codemirror_mode": {
    "name": "ipython",
    "version": 2
   },
   "file_extension": ".py",
   "mimetype": "text/x-python",
   "name": "python",
   "nbconvert_exporter": "python",
   "pygments_lexer": "ipython2",
   "version": "2.7.6"
  }
 },
 "nbformat": 4,
 "nbformat_minor": 5
}
